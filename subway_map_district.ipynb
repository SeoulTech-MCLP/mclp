{
 "cells": [
  {
   "cell_type": "markdown",
   "id": "5add768b",
   "metadata": {},
   "source": [
    "# Load Data"
   ]
  },
  {
   "cell_type": "code",
   "execution_count": 23,
   "id": "af8c426e",
   "metadata": {},
   "outputs": [
    {
     "name": "stdout",
     "output_type": "stream",
     "text": [
      "(643, 10)\n"
     ]
    },
    {
     "data": {
      "text/html": [
       "<div>\n",
       "<style scoped>\n",
       "    .dataframe tbody tr th:only-of-type {\n",
       "        vertical-align: middle;\n",
       "    }\n",
       "\n",
       "    .dataframe tbody tr th {\n",
       "        vertical-align: top;\n",
       "    }\n",
       "\n",
       "    .dataframe thead th {\n",
       "        text-align: right;\n",
       "    }\n",
       "</style>\n",
       "<table border=\"1\" class=\"dataframe\">\n",
       "  <thead>\n",
       "    <tr style=\"text-align: right;\">\n",
       "      <th></th>\n",
       "      <th>노드링크 유형</th>\n",
       "      <th>노드 WKT</th>\n",
       "      <th>노드 ID</th>\n",
       "      <th>노드 유형 코드</th>\n",
       "      <th>시군구코드</th>\n",
       "      <th>시군구명</th>\n",
       "      <th>읍면동코드</th>\n",
       "      <th>읍면동명</th>\n",
       "      <th>지하철역코드</th>\n",
       "      <th>지하철역명</th>\n",
       "    </tr>\n",
       "  </thead>\n",
       "  <tbody>\n",
       "    <tr>\n",
       "      <th>0</th>\n",
       "      <td>NODE</td>\n",
       "      <td>POINT(126.98515892357797 37.57622646659184)</td>\n",
       "      <td>211632</td>\n",
       "      <td>0</td>\n",
       "      <td>1111000000</td>\n",
       "      <td>종로구</td>\n",
       "      <td>1111013400</td>\n",
       "      <td>경운동</td>\n",
       "      <td>269.0</td>\n",
       "      <td>안국</td>\n",
       "    </tr>\n",
       "    <tr>\n",
       "      <th>1</th>\n",
       "      <td>NODE</td>\n",
       "      <td>POINT(126.97413365201709 37.575965675947124)</td>\n",
       "      <td>212372</td>\n",
       "      <td>1</td>\n",
       "      <td>1111000000</td>\n",
       "      <td>종로구</td>\n",
       "      <td>1111010700</td>\n",
       "      <td>적선동</td>\n",
       "      <td>271.0</td>\n",
       "      <td>경복궁(정부서울청사)</td>\n",
       "    </tr>\n",
       "    <tr>\n",
       "      <th>2</th>\n",
       "      <td>NODE</td>\n",
       "      <td>POINT(126.99183426224357 37.572491218588375)</td>\n",
       "      <td>211578</td>\n",
       "      <td>1</td>\n",
       "      <td>1111000000</td>\n",
       "      <td>종로구</td>\n",
       "      <td>1111015100</td>\n",
       "      <td>묘동</td>\n",
       "      <td>265.0</td>\n",
       "      <td>종로3가</td>\n",
       "    </tr>\n",
       "    <tr>\n",
       "      <th>3</th>\n",
       "      <td>NODE</td>\n",
       "      <td>POINT(127.0158608830301 37.57329756951232)</td>\n",
       "      <td>211842</td>\n",
       "      <td>0</td>\n",
       "      <td>1111000000</td>\n",
       "      <td>종로구</td>\n",
       "      <td>1111017500</td>\n",
       "      <td>숭인동</td>\n",
       "      <td>268.0</td>\n",
       "      <td>동묘앞</td>\n",
       "    </tr>\n",
       "    <tr>\n",
       "      <th>4</th>\n",
       "      <td>NODE</td>\n",
       "      <td>POINT(127.01551499790813 37.57951303710329)</td>\n",
       "      <td>212418</td>\n",
       "      <td>0</td>\n",
       "      <td>1111000000</td>\n",
       "      <td>종로구</td>\n",
       "      <td>1111017500</td>\n",
       "      <td>숭인동</td>\n",
       "      <td>270.0</td>\n",
       "      <td>창신</td>\n",
       "    </tr>\n",
       "  </tbody>\n",
       "</table>\n",
       "</div>"
      ],
      "text/plain": [
       "  노드링크 유형                                        노드 WKT   노드 ID  노드 유형 코드  \\\n",
       "0    NODE   POINT(126.98515892357797 37.57622646659184)  211632         0   \n",
       "1    NODE  POINT(126.97413365201709 37.575965675947124)  212372         1   \n",
       "2    NODE  POINT(126.99183426224357 37.572491218588375)  211578         1   \n",
       "3    NODE    POINT(127.0158608830301 37.57329756951232)  211842         0   \n",
       "4    NODE   POINT(127.01551499790813 37.57951303710329)  212418         0   \n",
       "\n",
       "        시군구코드 시군구명       읍면동코드 읍면동명  지하철역코드        지하철역명  \n",
       "0  1111000000  종로구  1111013400  경운동   269.0           안국  \n",
       "1  1111000000  종로구  1111010700  적선동   271.0  경복궁(정부서울청사)  \n",
       "2  1111000000  종로구  1111015100   묘동   265.0         종로3가  \n",
       "3  1111000000  종로구  1111017500  숭인동   268.0          동묘앞  \n",
       "4  1111000000  종로구  1111017500  숭인동   270.0           창신  "
      ]
     },
     "execution_count": 23,
     "metadata": {},
     "output_type": "execute_result"
    }
   ],
   "source": [
    "import pandas as pd\n",
    "\n",
    "subway_info = pd.read_csv('C:/Users/ITM28/Downloads/서울시 지하철역 엘리베이터 위치정보.csv', encoding='cp949')\n",
    "print(subway_info.shape)\n",
    "subway_info.head()"
   ]
  },
  {
   "cell_type": "markdown",
   "id": "15c6d427",
   "metadata": {},
   "source": [
    "## Bus Station Information Data Preprocessing"
   ]
  },
  {
   "cell_type": "code",
   "execution_count": 24,
   "id": "04efb1f8",
   "metadata": {},
   "outputs": [
    {
     "data": {
      "text/html": [
       "<div>\n",
       "<style scoped>\n",
       "    .dataframe tbody tr th:only-of-type {\n",
       "        vertical-align: middle;\n",
       "    }\n",
       "\n",
       "    .dataframe tbody tr th {\n",
       "        vertical-align: top;\n",
       "    }\n",
       "\n",
       "    .dataframe thead th {\n",
       "        text-align: right;\n",
       "    }\n",
       "</style>\n",
       "<table border=\"1\" class=\"dataframe\">\n",
       "  <thead>\n",
       "    <tr style=\"text-align: right;\">\n",
       "      <th></th>\n",
       "      <th>노드 WKT</th>\n",
       "      <th>시군구명</th>\n",
       "      <th>읍면동명</th>\n",
       "      <th>지하철역명</th>\n",
       "    </tr>\n",
       "  </thead>\n",
       "  <tbody>\n",
       "    <tr>\n",
       "      <th>0</th>\n",
       "      <td>POINT(126.98515892357797 37.57622646659184)</td>\n",
       "      <td>종로구</td>\n",
       "      <td>경운동</td>\n",
       "      <td>안국</td>\n",
       "    </tr>\n",
       "    <tr>\n",
       "      <th>1</th>\n",
       "      <td>POINT(126.97413365201709 37.575965675947124)</td>\n",
       "      <td>종로구</td>\n",
       "      <td>적선동</td>\n",
       "      <td>경복궁(정부서울청사)</td>\n",
       "    </tr>\n",
       "    <tr>\n",
       "      <th>2</th>\n",
       "      <td>POINT(126.99183426224357 37.572491218588375)</td>\n",
       "      <td>종로구</td>\n",
       "      <td>묘동</td>\n",
       "      <td>종로3가</td>\n",
       "    </tr>\n",
       "    <tr>\n",
       "      <th>3</th>\n",
       "      <td>POINT(127.0158608830301 37.57329756951232)</td>\n",
       "      <td>종로구</td>\n",
       "      <td>숭인동</td>\n",
       "      <td>동묘앞</td>\n",
       "    </tr>\n",
       "    <tr>\n",
       "      <th>4</th>\n",
       "      <td>POINT(127.01551499790813 37.57951303710329)</td>\n",
       "      <td>종로구</td>\n",
       "      <td>숭인동</td>\n",
       "      <td>창신</td>\n",
       "    </tr>\n",
       "  </tbody>\n",
       "</table>\n",
       "</div>"
      ],
      "text/plain": [
       "                                         노드 WKT 시군구명 읍면동명        지하철역명\n",
       "0   POINT(126.98515892357797 37.57622646659184)  종로구  경운동           안국\n",
       "1  POINT(126.97413365201709 37.575965675947124)  종로구  적선동  경복궁(정부서울청사)\n",
       "2  POINT(126.99183426224357 37.572491218588375)  종로구   묘동         종로3가\n",
       "3    POINT(127.0158608830301 37.57329756951232)  종로구  숭인동          동묘앞\n",
       "4   POINT(127.01551499790813 37.57951303710329)  종로구  숭인동           창신"
      ]
     },
     "execution_count": 24,
     "metadata": {},
     "output_type": "execute_result"
    }
   ],
   "source": [
    "subway_info = subway_info.drop(['노드 ID', '노드링크 유형', '시군구코드', '노드 유형 코드', '지하철역코드', '읍면동코드'], axis = 1)\n",
    "# columns above are not gonna be used for analysis since those are unique numbers of each subway station\n",
    "subway_info.head()"
   ]
  },
  {
   "cell_type": "markdown",
   "id": "e5cdf960",
   "metadata": {},
   "source": [
    "### Map Each Coordinates of Subway Station to Findout Its Districts"
   ]
  },
  {
   "cell_type": "code",
   "execution_count": 25,
   "id": "12c241ab",
   "metadata": {},
   "outputs": [
    {
     "data": {
      "text/plain": [
       "array([[126.98515892,  37.57622647],\n",
       "       [126.97413365,  37.57596568],\n",
       "       [126.99183426,  37.57249122],\n",
       "       ...,\n",
       "       [127.13820385,  37.51977513],\n",
       "       [127.17628284,  37.55740515],\n",
       "       [127.12448672,  37.53811503]])"
      ]
     },
     "execution_count": 25,
     "metadata": {},
     "output_type": "execute_result"
    }
   ],
   "source": [
    "import numpy as np\n",
    "\n",
    "# Split into longitude and latitude\n",
    "subway_info['Point'] = [point[6:-1] for point in subway_info['노드 WKT']]\n",
    "subway_info['Longitude'] = [float(point.split(' ')[0]) for point in subway_info['Point']]\n",
    "subway_info['Latitude'] = [float(point.split(' ')[1]) for point in subway_info['Point']]\n",
    "\n",
    "#Delete the original columns\n",
    "subway_info = subway_info.drop(['노드 WKT', 'Point'], axis=1)\n",
    "subway_info.head()\n",
    "\n",
    "XY = np.array([list(i) for i in zip(subway_info['Longitude'], subway_info['Latitude'])])\n",
    "XY"
   ]
  },
  {
   "cell_type": "markdown",
   "id": "e14dd904",
   "metadata": {},
   "source": [
    "### Use Kakao API to Findout Districts of Each Subway Station"
   ]
  },
  {
   "cell_type": "code",
   "execution_count": 26,
   "id": "b5bb957b",
   "metadata": {},
   "outputs": [],
   "source": [
    "# define function that findout districts\n",
    "# reference: https://developers.kakao.com/docs/latest/ko/local/dev-guide#coord-to-address\n",
    "import requests\n",
    "from urllib.parse import urlparse\n",
    "from time import sleep\n",
    "import urllib3\n",
    "\n",
    "def district(xy): \n",
    "    urllib3.disable_warnings(urllib3.exceptions.InsecureRequestWarning)\n",
    "    url = f\"https://dapi.kakao.com/v2/local/geo/coord2regioncode.json?x={xy[0]}&y={xy[1]}\"\n",
    "    result = requests.get(urlparse(url).geturl(), headers={\"Authorization\":\"KakaoAK 02e326932df53911a4316d1f33f53f96\"}\n",
    "                         , timeout=(30), verify=False)\n",
    "    result_json = result.json()\n",
    "    \n",
    "    for document in result_json['documents']: \n",
    "        try:\n",
    "            #region_type can be separated to H and B where H means 행정동, B means 법정동\n",
    "            #region_3depth_name means the name of the district\n",
    "            district_info = [document['region_type'], document['region_3depth_name'], document['x'], document['y']]\n",
    "        except:             \n",
    "            district_info=[0, 0, 0, 0]\n",
    "    \n",
    "    return district_info"
   ]
  },
  {
   "cell_type": "code",
   "execution_count": 27,
   "id": "6bc4e020",
   "metadata": {},
   "outputs": [
    {
     "data": {
      "text/plain": [
       "['H', '옥수동', 127.0134338126595, 37.54358863837599]"
      ]
     },
     "execution_count": 27,
     "metadata": {},
     "output_type": "execute_result"
    }
   ],
   "source": [
    "district([127.011904958, 37.5420646255])"
   ]
  },
  {
   "cell_type": "code",
   "execution_count": 28,
   "id": "c9ea11ba",
   "metadata": {},
   "outputs": [],
   "source": [
    "district_list = []\n",
    "for i in XY: \n",
    "    district_list.append(district(i))"
   ]
  },
  {
   "cell_type": "code",
   "execution_count": 30,
   "id": "125688e4",
   "metadata": {},
   "outputs": [
    {
     "data": {
      "text/html": [
       "<div>\n",
       "<style scoped>\n",
       "    .dataframe tbody tr th:only-of-type {\n",
       "        vertical-align: middle;\n",
       "    }\n",
       "\n",
       "    .dataframe tbody tr th {\n",
       "        vertical-align: top;\n",
       "    }\n",
       "\n",
       "    .dataframe thead th {\n",
       "        text-align: right;\n",
       "    }\n",
       "</style>\n",
       "<table border=\"1\" class=\"dataframe\">\n",
       "  <thead>\n",
       "    <tr style=\"text-align: right;\">\n",
       "      <th></th>\n",
       "      <th>H/B</th>\n",
       "      <th>District</th>\n",
       "      <th>Longitude</th>\n",
       "      <th>Latitude</th>\n",
       "    </tr>\n",
       "  </thead>\n",
       "  <tbody>\n",
       "    <tr>\n",
       "      <th>0</th>\n",
       "      <td>H</td>\n",
       "      <td>종로1.2.3.4가동</td>\n",
       "      <td>126.990287</td>\n",
       "      <td>37.574436</td>\n",
       "    </tr>\n",
       "    <tr>\n",
       "      <th>1</th>\n",
       "      <td>H</td>\n",
       "      <td>사직동</td>\n",
       "      <td>126.968846</td>\n",
       "      <td>37.576187</td>\n",
       "    </tr>\n",
       "    <tr>\n",
       "      <th>2</th>\n",
       "      <td>H</td>\n",
       "      <td>종로1.2.3.4가동</td>\n",
       "      <td>126.990287</td>\n",
       "      <td>37.574436</td>\n",
       "    </tr>\n",
       "    <tr>\n",
       "      <th>3</th>\n",
       "      <td>H</td>\n",
       "      <td>숭인1동</td>\n",
       "      <td>127.015645</td>\n",
       "      <td>37.577830</td>\n",
       "    </tr>\n",
       "    <tr>\n",
       "      <th>4</th>\n",
       "      <td>H</td>\n",
       "      <td>숭인1동</td>\n",
       "      <td>127.015645</td>\n",
       "      <td>37.577830</td>\n",
       "    </tr>\n",
       "  </tbody>\n",
       "</table>\n",
       "</div>"
      ],
      "text/plain": [
       "  H/B     District   Longitude   Latitude\n",
       "0   H  종로1.2.3.4가동  126.990287  37.574436\n",
       "1   H          사직동  126.968846  37.576187\n",
       "2   H  종로1.2.3.4가동  126.990287  37.574436\n",
       "3   H         숭인1동  127.015645  37.577830\n",
       "4   H         숭인1동  127.015645  37.577830"
      ]
     },
     "execution_count": 30,
     "metadata": {},
     "output_type": "execute_result"
    }
   ],
   "source": [
    "# H stands for 행정동, B stands for 법정동\n",
    "subway_district = pd.DataFrame(district_list, columns=['H/B', 'District', 'Longitude', 'Latitude'])\n",
    "subway_district.head()"
   ]
  },
  {
   "cell_type": "code",
   "execution_count": 31,
   "id": "5974adfa",
   "metadata": {},
   "outputs": [
    {
     "data": {
      "text/plain": [
       "array(['H'], dtype=object)"
      ]
     },
     "execution_count": 31,
     "metadata": {},
     "output_type": "execute_result"
    }
   ],
   "source": [
    "subway_district['H/B'].unique()"
   ]
  },
  {
   "cell_type": "code",
   "execution_count": 32,
   "id": "fe5955d4",
   "metadata": {},
   "outputs": [
    {
     "data": {
      "text/html": [
       "<div>\n",
       "<style scoped>\n",
       "    .dataframe tbody tr th:only-of-type {\n",
       "        vertical-align: middle;\n",
       "    }\n",
       "\n",
       "    .dataframe tbody tr th {\n",
       "        vertical-align: top;\n",
       "    }\n",
       "\n",
       "    .dataframe thead th {\n",
       "        text-align: right;\n",
       "    }\n",
       "</style>\n",
       "<table border=\"1\" class=\"dataframe\">\n",
       "  <thead>\n",
       "    <tr style=\"text-align: right;\">\n",
       "      <th></th>\n",
       "      <th>District</th>\n",
       "      <th>Longitude</th>\n",
       "      <th>Latitude</th>\n",
       "    </tr>\n",
       "  </thead>\n",
       "  <tbody>\n",
       "    <tr>\n",
       "      <th>0</th>\n",
       "      <td>종로1.2.3.4가동</td>\n",
       "      <td>126.990287</td>\n",
       "      <td>37.574436</td>\n",
       "    </tr>\n",
       "    <tr>\n",
       "      <th>1</th>\n",
       "      <td>사직동</td>\n",
       "      <td>126.968846</td>\n",
       "      <td>37.576187</td>\n",
       "    </tr>\n",
       "    <tr>\n",
       "      <th>2</th>\n",
       "      <td>종로1.2.3.4가동</td>\n",
       "      <td>126.990287</td>\n",
       "      <td>37.574436</td>\n",
       "    </tr>\n",
       "    <tr>\n",
       "      <th>3</th>\n",
       "      <td>숭인1동</td>\n",
       "      <td>127.015645</td>\n",
       "      <td>37.577830</td>\n",
       "    </tr>\n",
       "    <tr>\n",
       "      <th>4</th>\n",
       "      <td>숭인1동</td>\n",
       "      <td>127.015645</td>\n",
       "      <td>37.577830</td>\n",
       "    </tr>\n",
       "  </tbody>\n",
       "</table>\n",
       "</div>"
      ],
      "text/plain": [
       "      District   Longitude   Latitude\n",
       "0  종로1.2.3.4가동  126.990287  37.574436\n",
       "1          사직동  126.968846  37.576187\n",
       "2  종로1.2.3.4가동  126.990287  37.574436\n",
       "3         숭인1동  127.015645  37.577830\n",
       "4         숭인1동  127.015645  37.577830"
      ]
     },
     "execution_count": 32,
     "metadata": {},
     "output_type": "execute_result"
    }
   ],
   "source": [
    "subway_district = subway_district.drop('H/B', axis=1)\n",
    "subway_district.head()"
   ]
  },
  {
   "cell_type": "code",
   "execution_count": 35,
   "id": "ead4bd4a",
   "metadata": {},
   "outputs": [
    {
     "name": "stdout",
     "output_type": "stream",
     "text": [
      "(643, 6)\n"
     ]
    },
    {
     "data": {
      "text/html": [
       "<div>\n",
       "<style scoped>\n",
       "    .dataframe tbody tr th:only-of-type {\n",
       "        vertical-align: middle;\n",
       "    }\n",
       "\n",
       "    .dataframe tbody tr th {\n",
       "        vertical-align: top;\n",
       "    }\n",
       "\n",
       "    .dataframe thead th {\n",
       "        text-align: right;\n",
       "    }\n",
       "</style>\n",
       "<table border=\"1\" class=\"dataframe\">\n",
       "  <thead>\n",
       "    <tr style=\"text-align: right;\">\n",
       "      <th></th>\n",
       "      <th>시군구명</th>\n",
       "      <th>읍면동명</th>\n",
       "      <th>지하철역명</th>\n",
       "      <th>District</th>\n",
       "      <th>Longitude</th>\n",
       "      <th>Latitude</th>\n",
       "    </tr>\n",
       "  </thead>\n",
       "  <tbody>\n",
       "    <tr>\n",
       "      <th>0</th>\n",
       "      <td>종로구</td>\n",
       "      <td>경운동</td>\n",
       "      <td>안국</td>\n",
       "      <td>종로1.2.3.4가동</td>\n",
       "      <td>126.990287</td>\n",
       "      <td>37.574436</td>\n",
       "    </tr>\n",
       "    <tr>\n",
       "      <th>1</th>\n",
       "      <td>종로구</td>\n",
       "      <td>적선동</td>\n",
       "      <td>경복궁(정부서울청사)</td>\n",
       "      <td>사직동</td>\n",
       "      <td>126.968846</td>\n",
       "      <td>37.576187</td>\n",
       "    </tr>\n",
       "    <tr>\n",
       "      <th>2</th>\n",
       "      <td>종로구</td>\n",
       "      <td>묘동</td>\n",
       "      <td>종로3가</td>\n",
       "      <td>종로1.2.3.4가동</td>\n",
       "      <td>126.990287</td>\n",
       "      <td>37.574436</td>\n",
       "    </tr>\n",
       "    <tr>\n",
       "      <th>3</th>\n",
       "      <td>종로구</td>\n",
       "      <td>숭인동</td>\n",
       "      <td>동묘앞</td>\n",
       "      <td>숭인1동</td>\n",
       "      <td>127.015645</td>\n",
       "      <td>37.577830</td>\n",
       "    </tr>\n",
       "    <tr>\n",
       "      <th>4</th>\n",
       "      <td>종로구</td>\n",
       "      <td>숭인동</td>\n",
       "      <td>창신</td>\n",
       "      <td>숭인1동</td>\n",
       "      <td>127.015645</td>\n",
       "      <td>37.577830</td>\n",
       "    </tr>\n",
       "  </tbody>\n",
       "</table>\n",
       "</div>"
      ],
      "text/plain": [
       "  시군구명 읍면동명        지하철역명     District   Longitude   Latitude\n",
       "0  종로구  경운동           안국  종로1.2.3.4가동  126.990287  37.574436\n",
       "1  종로구  적선동  경복궁(정부서울청사)          사직동  126.968846  37.576187\n",
       "2  종로구   묘동         종로3가  종로1.2.3.4가동  126.990287  37.574436\n",
       "3  종로구  숭인동          동묘앞         숭인1동  127.015645  37.577830\n",
       "4  종로구  숭인동           창신         숭인1동  127.015645  37.577830"
      ]
     },
     "execution_count": 35,
     "metadata": {},
     "output_type": "execute_result"
    }
   ],
   "source": [
    "subway_info = subway_info.drop('Longitude', axis=1)\n",
    "subway_info = subway_info.drop('Latitude', axis=1)\n",
    "\n",
    "subway_info_district = pd.concat([subway_info, subway_district], axis=1)\n",
    "print(subway_info_district.shape)\n",
    "subway_info_district.head()"
   ]
  },
  {
   "cell_type": "code",
   "execution_count": 38,
   "id": "d9698fcf",
   "metadata": {},
   "outputs": [],
   "source": [
    "subway_info_district.to_csv('./subway_info_district.csv', index=False)"
   ]
  },
  {
   "cell_type": "code",
   "execution_count": null,
   "id": "a8dff193",
   "metadata": {},
   "outputs": [],
   "source": []
  }
 ],
 "metadata": {
  "kernelspec": {
   "display_name": "Python 3 (ipykernel)",
   "language": "python",
   "name": "python3"
  },
  "language_info": {
   "codemirror_mode": {
    "name": "ipython",
    "version": 3
   },
   "file_extension": ".py",
   "mimetype": "text/x-python",
   "name": "python",
   "nbconvert_exporter": "python",
   "pygments_lexer": "ipython3",
   "version": "3.11.3"
  }
 },
 "nbformat": 4,
 "nbformat_minor": 5
}
